{
 "cells": [
  {
   "cell_type": "markdown",
   "metadata": {},
   "source": [
    "## Importing Necesseties"
   ]
  },
  {
   "cell_type": "code",
   "execution_count": 1,
   "metadata": {},
   "outputs": [],
   "source": [
    "import re\n",
    "import string\n",
    "import pandas as pd\n",
    "import numpy as np\n",
    "\n",
    "import nltk\n",
    "from nltk.stem import WordNetLemmatizer\n",
    "from nltk import pos_tag, word_tokenize\n",
    "from nltk.corpus import stopwords\n",
    "\n",
    "from collections import Counter\n",
    "\n",
    "from keras.preprocessing.text import Tokenizer\n",
    "\n",
    "from sklearn.model_selection import train_test_split\n",
    "\n",
    "import matplotlib.pyplot as plt\n",
    "\n",
    "from keras.layers import Embedding, Dense, LSTM\n",
    "from keras.models import Sequential \n",
    "from keras.preprocessing.sequence import pad_sequences\n",
    "from keras import optimizers\n",
    "from keras.models import load_model\n",
    "from keras.callbacks import EarlyStopping, ModelCheckpoint"
   ]
  },
  {
   "cell_type": "markdown",
   "metadata": {},
   "source": [
    "## Reading the Data"
   ]
  },
  {
   "cell_type": "code",
   "execution_count": 2,
   "metadata": {
    "scrolled": true
   },
   "outputs": [
    {
     "data": {
      "text/html": [
       "<div>\n",
       "<style scoped>\n",
       "    .dataframe tbody tr th:only-of-type {\n",
       "        vertical-align: middle;\n",
       "    }\n",
       "\n",
       "    .dataframe tbody tr th {\n",
       "        vertical-align: top;\n",
       "    }\n",
       "\n",
       "    .dataframe thead th {\n",
       "        text-align: right;\n",
       "    }\n",
       "</style>\n",
       "<table border=\"1\" class=\"dataframe\">\n",
       "  <thead>\n",
       "    <tr style=\"text-align: right;\">\n",
       "      <th></th>\n",
       "      <th>sentence</th>\n",
       "      <th>sentiment</th>\n",
       "    </tr>\n",
       "  </thead>\n",
       "  <tbody>\n",
       "    <tr>\n",
       "      <th>0</th>\n",
       "      <td>It's a pretty good, inexpensive casual or busi...</td>\n",
       "      <td>1</td>\n",
       "    </tr>\n",
       "    <tr>\n",
       "      <th>1</th>\n",
       "      <td>For example, it has no side pleats in back and...</td>\n",
       "      <td>0</td>\n",
       "    </tr>\n",
       "    <tr>\n",
       "      <th>2</th>\n",
       "      <td>If you do you'll be disappointed</td>\n",
       "      <td>2</td>\n",
       "    </tr>\n",
       "    <tr>\n",
       "      <th>3</th>\n",
       "      <td>This is only noticeable to me and only because...</td>\n",
       "      <td>0</td>\n",
       "    </tr>\n",
       "    <tr>\n",
       "      <th>4</th>\n",
       "      <td>Also, there are lots of loose threads from pro...</td>\n",
       "      <td>2</td>\n",
       "    </tr>\n",
       "  </tbody>\n",
       "</table>\n",
       "</div>"
      ],
      "text/plain": [
       "                                            sentence sentiment\n",
       "0  It's a pretty good, inexpensive casual or busi...         1\n",
       "1  For example, it has no side pleats in back and...         0\n",
       "2                   If you do you'll be disappointed         2\n",
       "3  This is only noticeable to me and only because...         0\n",
       "4  Also, there are lots of loose threads from pro...         2"
      ]
     },
     "execution_count": 2,
     "metadata": {},
     "output_type": "execute_result"
    }
   ],
   "source": [
    "data = pd.read_csv('../data/sentences123456_no_but.csv')\n",
    "data.head(5)"
   ]
  },
  {
   "cell_type": "markdown",
   "metadata": {},
   "source": [
    "## Text Preprocessing"
   ]
  },
  {
   "cell_type": "markdown",
   "metadata": {},
   "source": [
    "### Cleaning the Corpus"
   ]
  },
  {
   "cell_type": "code",
   "execution_count": 3,
   "metadata": {},
   "outputs": [
    {
     "data": {
      "text/html": [
       "<div>\n",
       "<style scoped>\n",
       "    .dataframe tbody tr th:only-of-type {\n",
       "        vertical-align: middle;\n",
       "    }\n",
       "\n",
       "    .dataframe tbody tr th {\n",
       "        vertical-align: top;\n",
       "    }\n",
       "\n",
       "    .dataframe thead th {\n",
       "        text-align: right;\n",
       "    }\n",
       "</style>\n",
       "<table border=\"1\" class=\"dataframe\">\n",
       "  <thead>\n",
       "    <tr style=\"text-align: right;\">\n",
       "      <th></th>\n",
       "      <th>sentence</th>\n",
       "      <th>sentiment</th>\n",
       "    </tr>\n",
       "  </thead>\n",
       "  <tbody>\n",
       "    <tr>\n",
       "      <th>0</th>\n",
       "      <td>its pretty good inexpensive casual or business...</td>\n",
       "      <td>1</td>\n",
       "    </tr>\n",
       "    <tr>\n",
       "      <th>1</th>\n",
       "      <td>for example it has no side pleats in back and ...</td>\n",
       "      <td>0</td>\n",
       "    </tr>\n",
       "    <tr>\n",
       "      <th>2</th>\n",
       "      <td>if you do youll be disappointed</td>\n",
       "      <td>2</td>\n",
       "    </tr>\n",
       "    <tr>\n",
       "      <th>3</th>\n",
       "      <td>this is only noticeable to me and only because...</td>\n",
       "      <td>0</td>\n",
       "    </tr>\n",
       "    <tr>\n",
       "      <th>4</th>\n",
       "      <td>also there are lots of loose threads from prod...</td>\n",
       "      <td>2</td>\n",
       "    </tr>\n",
       "  </tbody>\n",
       "</table>\n",
       "</div>"
      ],
      "text/plain": [
       "                                            sentence sentiment\n",
       "0  its pretty good inexpensive casual or business...         1\n",
       "1  for example it has no side pleats in back and ...         0\n",
       "2                    if you do youll be disappointed         2\n",
       "3  this is only noticeable to me and only because...         0\n",
       "4  also there are lots of loose threads from prod...         2"
      ]
     },
     "execution_count": 3,
     "metadata": {},
     "output_type": "execute_result"
    }
   ],
   "source": [
    "'''\n",
    "Make text lowercase, remove text in square brackets, remove links, remove HTML tags,\n",
    "remove punctuation, remove words containing numbers, remove all single characters, \n",
    "and substitute multiple spaces with single space.\n",
    "'''\n",
    "def clean_text(text):\n",
    "    text = str(text).lower()\n",
    "    text = re.sub('\\[.*?\\]', '', text)\n",
    "    text = re.sub('https?://\\S+|www\\.\\S+', '', text)\n",
    "    text = re.sub('<.*?>+', '', text)\n",
    "    text = re.sub('\\n', '', text)\n",
    "    text = re.sub('[%s]' % re.escape(string.punctuation), '', text)\n",
    "    text = re.sub('\\w*\\d\\w*', '', text)\n",
    "    text = re.sub(r'\\s+[a-zA-Z]\\s+', ' ', text)\n",
    "    text = re.sub(r'\\s+', ' ', text, flags=re.I)\n",
    "    return text\n",
    "\n",
    "data['sentence'] = data['sentence'].apply(lambda x:clean_text(x))\n",
    "\n",
    "# delete row with missing values\n",
    "data = data.dropna(axis=0)\n",
    "\n",
    "data.head(5)"
   ]
  },
  {
   "cell_type": "markdown",
   "metadata": {},
   "source": [
    "### Lemmatization"
   ]
  },
  {
   "cell_type": "code",
   "execution_count": 4,
   "metadata": {},
   "outputs": [],
   "source": [
    "def lemmatize_all(sentence):\n",
    "    wnl = WordNetLemmatizer()\n",
    "    for word, tag in pos_tag(word_tokenize(sentence)):\n",
    "        if tag.startswith(\"NN\"):\n",
    "            yield wnl.lemmatize(word, pos='n')\n",
    "        elif tag.startswith('VB'):\n",
    "            yield wnl.lemmatize(word, pos='v')\n",
    "        elif tag.startswith('JJ'):\n",
    "            yield wnl.lemmatize(word, pos='a')\n",
    "        elif tag.startswith('R'):\n",
    "            yield wnl.lemmatize(word, pos='r')\n",
    "        else:\n",
    "            yield word"
   ]
  },
  {
   "cell_type": "code",
   "execution_count": 5,
   "metadata": {},
   "outputs": [
    {
     "data": {
      "text/html": [
       "<div>\n",
       "<style scoped>\n",
       "    .dataframe tbody tr th:only-of-type {\n",
       "        vertical-align: middle;\n",
       "    }\n",
       "\n",
       "    .dataframe tbody tr th {\n",
       "        vertical-align: top;\n",
       "    }\n",
       "\n",
       "    .dataframe thead th {\n",
       "        text-align: right;\n",
       "    }\n",
       "</style>\n",
       "<table border=\"1\" class=\"dataframe\">\n",
       "  <thead>\n",
       "    <tr style=\"text-align: right;\">\n",
       "      <th></th>\n",
       "      <th>sentence</th>\n",
       "      <th>sentiment</th>\n",
       "    </tr>\n",
       "  </thead>\n",
       "  <tbody>\n",
       "    <tr>\n",
       "      <th>0</th>\n",
       "      <td>its pretty good inexpensive casual or business...</td>\n",
       "      <td>1</td>\n",
       "    </tr>\n",
       "    <tr>\n",
       "      <th>1</th>\n",
       "      <td>for example it have no side pleat in back and ...</td>\n",
       "      <td>0</td>\n",
       "    </tr>\n",
       "    <tr>\n",
       "      <th>2</th>\n",
       "      <td>if you do youll be disappoint</td>\n",
       "      <td>2</td>\n",
       "    </tr>\n",
       "    <tr>\n",
       "      <th>3</th>\n",
       "      <td>this be only noticeable to me and only because...</td>\n",
       "      <td>0</td>\n",
       "    </tr>\n",
       "    <tr>\n",
       "      <th>4</th>\n",
       "      <td>also there be lot of loose thread from product...</td>\n",
       "      <td>2</td>\n",
       "    </tr>\n",
       "  </tbody>\n",
       "</table>\n",
       "</div>"
      ],
      "text/plain": [
       "                                            sentence sentiment\n",
       "0  its pretty good inexpensive casual or business...         1\n",
       "1  for example it have no side pleat in back and ...         0\n",
       "2                      if you do youll be disappoint         2\n",
       "3  this be only noticeable to me and only because...         0\n",
       "4  also there be lot of loose thread from product...         2"
      ]
     },
     "execution_count": 5,
     "metadata": {},
     "output_type": "execute_result"
    }
   ],
   "source": [
    "data['sentence'] = data['sentence'].apply(lambda x:\" \".join(lemmatize_all(str(x))))\n",
    "data.head(5)"
   ]
  },
  {
   "cell_type": "markdown",
   "metadata": {},
   "source": [
    "### Tokenizing Data"
   ]
  },
  {
   "cell_type": "code",
   "execution_count": 6,
   "metadata": {},
   "outputs": [],
   "source": [
    "data['x_temp'] = data['sentence'].apply(lambda x:str(x).split())"
   ]
  },
  {
   "cell_type": "markdown",
   "metadata": {},
   "source": [
    "### Removing Stopwords"
   ]
  },
  {
   "cell_type": "code",
   "execution_count": 7,
   "metadata": {},
   "outputs": [
    {
     "data": {
      "text/html": [
       "<style  type=\"text/css\" >\n",
       "#T_b7576d32_6f3e_11eb_99db_302432b071ffrow0_col1{\n",
       "            background-color:  #08306b;\n",
       "            color:  #f1f1f1;\n",
       "        }#T_b7576d32_6f3e_11eb_99db_302432b071ffrow1_col1{\n",
       "            background-color:  #083c7d;\n",
       "            color:  #f1f1f1;\n",
       "        }#T_b7576d32_6f3e_11eb_99db_302432b071ffrow2_col1{\n",
       "            background-color:  #125ea6;\n",
       "            color:  #f1f1f1;\n",
       "        }#T_b7576d32_6f3e_11eb_99db_302432b071ffrow3_col1{\n",
       "            background-color:  #3989c1;\n",
       "            color:  #000000;\n",
       "        }#T_b7576d32_6f3e_11eb_99db_302432b071ffrow4_col1{\n",
       "            background-color:  #85bcdc;\n",
       "            color:  #000000;\n",
       "        }#T_b7576d32_6f3e_11eb_99db_302432b071ffrow5_col1{\n",
       "            background-color:  #9dcae1;\n",
       "            color:  #000000;\n",
       "        }#T_b7576d32_6f3e_11eb_99db_302432b071ffrow6_col1{\n",
       "            background-color:  #c7dcef;\n",
       "            color:  #000000;\n",
       "        }#T_b7576d32_6f3e_11eb_99db_302432b071ffrow7_col1{\n",
       "            background-color:  #cde0f1;\n",
       "            color:  #000000;\n",
       "        }#T_b7576d32_6f3e_11eb_99db_302432b071ffrow8_col1{\n",
       "            background-color:  #d3e3f3;\n",
       "            color:  #000000;\n",
       "        }#T_b7576d32_6f3e_11eb_99db_302432b071ffrow9_col1{\n",
       "            background-color:  #d3e4f3;\n",
       "            color:  #000000;\n",
       "        }#T_b7576d32_6f3e_11eb_99db_302432b071ffrow10_col1{\n",
       "            background-color:  #e3eef8;\n",
       "            color:  #000000;\n",
       "        }#T_b7576d32_6f3e_11eb_99db_302432b071ffrow11_col1{\n",
       "            background-color:  #e8f1fa;\n",
       "            color:  #000000;\n",
       "        }#T_b7576d32_6f3e_11eb_99db_302432b071ffrow12_col1{\n",
       "            background-color:  #eaf2fb;\n",
       "            color:  #000000;\n",
       "        }#T_b7576d32_6f3e_11eb_99db_302432b071ffrow13_col1{\n",
       "            background-color:  #ebf3fb;\n",
       "            color:  #000000;\n",
       "        }#T_b7576d32_6f3e_11eb_99db_302432b071ffrow14_col1{\n",
       "            background-color:  #eef5fc;\n",
       "            color:  #000000;\n",
       "        }#T_b7576d32_6f3e_11eb_99db_302432b071ffrow15_col1{\n",
       "            background-color:  #f2f7fd;\n",
       "            color:  #000000;\n",
       "        }#T_b7576d32_6f3e_11eb_99db_302432b071ffrow16_col1{\n",
       "            background-color:  #f5f9fe;\n",
       "            color:  #000000;\n",
       "        }#T_b7576d32_6f3e_11eb_99db_302432b071ffrow17_col1,#T_b7576d32_6f3e_11eb_99db_302432b071ffrow18_col1{\n",
       "            background-color:  #f5fafe;\n",
       "            color:  #000000;\n",
       "        }#T_b7576d32_6f3e_11eb_99db_302432b071ffrow19_col1{\n",
       "            background-color:  #f7fbff;\n",
       "            color:  #000000;\n",
       "        }</style><table id=\"T_b7576d32_6f3e_11eb_99db_302432b071ff\" ><thead>    <tr>        <th class=\"blank level0\" ></th>        <th class=\"col_heading level0 col0\" >Common_words</th>        <th class=\"col_heading level0 col1\" >count</th>    </tr></thead><tbody>\n",
       "                <tr>\n",
       "                        <th id=\"T_b7576d32_6f3e_11eb_99db_302432b071fflevel0_row0\" class=\"row_heading level0 row0\" >0</th>\n",
       "                        <td id=\"T_b7576d32_6f3e_11eb_99db_302432b071ffrow0_col0\" class=\"data row0 col0\" >the</td>\n",
       "                        <td id=\"T_b7576d32_6f3e_11eb_99db_302432b071ffrow0_col1\" class=\"data row0 col1\" >4702</td>\n",
       "            </tr>\n",
       "            <tr>\n",
       "                        <th id=\"T_b7576d32_6f3e_11eb_99db_302432b071fflevel0_row1\" class=\"row_heading level0 row1\" >1</th>\n",
       "                        <td id=\"T_b7576d32_6f3e_11eb_99db_302432b071ffrow1_col0\" class=\"data row1 col0\" >be</td>\n",
       "                        <td id=\"T_b7576d32_6f3e_11eb_99db_302432b071ffrow1_col1\" class=\"data row1 col1\" >4513</td>\n",
       "            </tr>\n",
       "            <tr>\n",
       "                        <th id=\"T_b7576d32_6f3e_11eb_99db_302432b071fflevel0_row2\" class=\"row_heading level0 row2\" >2</th>\n",
       "                        <td id=\"T_b7576d32_6f3e_11eb_99db_302432b071ffrow2_col0\" class=\"data row2 col0\" >shirt</td>\n",
       "                        <td id=\"T_b7576d32_6f3e_11eb_99db_302432b071ffrow2_col1\" class=\"data row2 col1\" >4012</td>\n",
       "            </tr>\n",
       "            <tr>\n",
       "                        <th id=\"T_b7576d32_6f3e_11eb_99db_302432b071fflevel0_row3\" class=\"row_heading level0 row3\" >3</th>\n",
       "                        <td id=\"T_b7576d32_6f3e_11eb_99db_302432b071ffrow3_col0\" class=\"data row3 col0\" >and</td>\n",
       "                        <td id=\"T_b7576d32_6f3e_11eb_99db_302432b071ffrow3_col1\" class=\"data row3 col1\" >3375</td>\n",
       "            </tr>\n",
       "            <tr>\n",
       "                        <th id=\"T_b7576d32_6f3e_11eb_99db_302432b071fflevel0_row4\" class=\"row_heading level0 row4\" >4</th>\n",
       "                        <td id=\"T_b7576d32_6f3e_11eb_99db_302432b071ffrow4_col0\" class=\"data row4 col0\" >fit</td>\n",
       "                        <td id=\"T_b7576d32_6f3e_11eb_99db_302432b071ffrow4_col1\" class=\"data row4 col1\" >2519</td>\n",
       "            </tr>\n",
       "            <tr>\n",
       "                        <th id=\"T_b7576d32_6f3e_11eb_99db_302432b071fflevel0_row5\" class=\"row_heading level0 row5\" >5</th>\n",
       "                        <td id=\"T_b7576d32_6f3e_11eb_99db_302432b071ffrow5_col0\" class=\"data row5 col0\" >it</td>\n",
       "                        <td id=\"T_b7576d32_6f3e_11eb_99db_302432b071ffrow5_col1\" class=\"data row5 col1\" >2295</td>\n",
       "            </tr>\n",
       "            <tr>\n",
       "                        <th id=\"T_b7576d32_6f3e_11eb_99db_302432b071fflevel0_row6\" class=\"row_heading level0 row6\" >6</th>\n",
       "                        <td id=\"T_b7576d32_6f3e_11eb_99db_302432b071ffrow6_col0\" class=\"data row6 col0\" >to</td>\n",
       "                        <td id=\"T_b7576d32_6f3e_11eb_99db_302432b071ffrow6_col1\" class=\"data row6 col1\" >1784</td>\n",
       "            </tr>\n",
       "            <tr>\n",
       "                        <th id=\"T_b7576d32_6f3e_11eb_99db_302432b071fflevel0_row7\" class=\"row_heading level0 row7\" >7</th>\n",
       "                        <td id=\"T_b7576d32_6f3e_11eb_99db_302432b071ffrow7_col0\" class=\"data row7 col0\" >i</td>\n",
       "                        <td id=\"T_b7576d32_6f3e_11eb_99db_302432b071ffrow7_col1\" class=\"data row7 col1\" >1659</td>\n",
       "            </tr>\n",
       "            <tr>\n",
       "                        <th id=\"T_b7576d32_6f3e_11eb_99db_302432b071fflevel0_row8\" class=\"row_heading level0 row8\" >8</th>\n",
       "                        <td id=\"T_b7576d32_6f3e_11eb_99db_302432b071ffrow8_col0\" class=\"data row8 col0\" >for</td>\n",
       "                        <td id=\"T_b7576d32_6f3e_11eb_99db_302432b071ffrow8_col1\" class=\"data row8 col1\" >1561</td>\n",
       "            </tr>\n",
       "            <tr>\n",
       "                        <th id=\"T_b7576d32_6f3e_11eb_99db_302432b071fflevel0_row9\" class=\"row_heading level0 row9\" >9</th>\n",
       "                        <td id=\"T_b7576d32_6f3e_11eb_99db_302432b071ffrow9_col0\" class=\"data row9 col0\" >this</td>\n",
       "                        <td id=\"T_b7576d32_6f3e_11eb_99db_302432b071ffrow9_col1\" class=\"data row9 col1\" >1542</td>\n",
       "            </tr>\n",
       "            <tr>\n",
       "                        <th id=\"T_b7576d32_6f3e_11eb_99db_302432b071fflevel0_row10\" class=\"row_heading level0 row10\" >10</th>\n",
       "                        <td id=\"T_b7576d32_6f3e_11eb_99db_302432b071ffrow10_col0\" class=\"data row10 col0\" >great</td>\n",
       "                        <td id=\"T_b7576d32_6f3e_11eb_99db_302432b071ffrow10_col1\" class=\"data row10 col1\" >1247</td>\n",
       "            </tr>\n",
       "            <tr>\n",
       "                        <th id=\"T_b7576d32_6f3e_11eb_99db_302432b071fflevel0_row11\" class=\"row_heading level0 row11\" >11</th>\n",
       "                        <td id=\"T_b7576d32_6f3e_11eb_99db_302432b071ffrow11_col0\" class=\"data row11 col0\" >good</td>\n",
       "                        <td id=\"T_b7576d32_6f3e_11eb_99db_302432b071ffrow11_col1\" class=\"data row11 col1\" >1128</td>\n",
       "            </tr>\n",
       "            <tr>\n",
       "                        <th id=\"T_b7576d32_6f3e_11eb_99db_302432b071fflevel0_row12\" class=\"row_heading level0 row12\" >12</th>\n",
       "                        <td id=\"T_b7576d32_6f3e_11eb_99db_302432b071ffrow12_col0\" class=\"data row12 col0\" >of</td>\n",
       "                        <td id=\"T_b7576d32_6f3e_11eb_99db_302432b071ffrow12_col1\" class=\"data row12 col1\" >1108</td>\n",
       "            </tr>\n",
       "            <tr>\n",
       "                        <th id=\"T_b7576d32_6f3e_11eb_99db_302432b071fflevel0_row13\" class=\"row_heading level0 row13\" >13</th>\n",
       "                        <td id=\"T_b7576d32_6f3e_11eb_99db_302432b071ffrow13_col0\" class=\"data row13 col0\" >have</td>\n",
       "                        <td id=\"T_b7576d32_6f3e_11eb_99db_302432b071ffrow13_col1\" class=\"data row13 col1\" >1069</td>\n",
       "            </tr>\n",
       "            <tr>\n",
       "                        <th id=\"T_b7576d32_6f3e_11eb_99db_302432b071fflevel0_row14\" class=\"row_heading level0 row14\" >14</th>\n",
       "                        <td id=\"T_b7576d32_6f3e_11eb_99db_302432b071ffrow14_col0\" class=\"data row14 col0\" >in</td>\n",
       "                        <td id=\"T_b7576d32_6f3e_11eb_99db_302432b071ffrow14_col1\" class=\"data row14 col1\" >1036</td>\n",
       "            </tr>\n",
       "            <tr>\n",
       "                        <th id=\"T_b7576d32_6f3e_11eb_99db_302432b071fflevel0_row15\" class=\"row_heading level0 row15\" >15</th>\n",
       "                        <td id=\"T_b7576d32_6f3e_11eb_99db_302432b071ffrow15_col0\" class=\"data row15 col0\" >my</td>\n",
       "                        <td id=\"T_b7576d32_6f3e_11eb_99db_302432b071ffrow15_col1\" class=\"data row15 col1\" >956</td>\n",
       "            </tr>\n",
       "            <tr>\n",
       "                        <th id=\"T_b7576d32_6f3e_11eb_99db_302432b071fflevel0_row16\" class=\"row_heading level0 row16\" >16</th>\n",
       "                        <td id=\"T_b7576d32_6f3e_11eb_99db_302432b071ffrow16_col0\" class=\"data row16 col0\" >not</td>\n",
       "                        <td id=\"T_b7576d32_6f3e_11eb_99db_302432b071ffrow16_col1\" class=\"data row16 col1\" >891</td>\n",
       "            </tr>\n",
       "            <tr>\n",
       "                        <th id=\"T_b7576d32_6f3e_11eb_99db_302432b071fflevel0_row17\" class=\"row_heading level0 row17\" >17</th>\n",
       "                        <td id=\"T_b7576d32_6f3e_11eb_99db_302432b071ffrow17_col0\" class=\"data row17 col0\" >look</td>\n",
       "                        <td id=\"T_b7576d32_6f3e_11eb_99db_302432b071ffrow17_col1\" class=\"data row17 col1\" >880</td>\n",
       "            </tr>\n",
       "            <tr>\n",
       "                        <th id=\"T_b7576d32_6f3e_11eb_99db_302432b071fflevel0_row18\" class=\"row_heading level0 row18\" >18</th>\n",
       "                        <td id=\"T_b7576d32_6f3e_11eb_99db_302432b071ffrow18_col0\" class=\"data row18 col0\" >very</td>\n",
       "                        <td id=\"T_b7576d32_6f3e_11eb_99db_302432b071ffrow18_col1\" class=\"data row18 col1\" >875</td>\n",
       "            </tr>\n",
       "            <tr>\n",
       "                        <th id=\"T_b7576d32_6f3e_11eb_99db_302432b071fflevel0_row19\" class=\"row_heading level0 row19\" >19</th>\n",
       "                        <td id=\"T_b7576d32_6f3e_11eb_99db_302432b071ffrow19_col0\" class=\"data row19 col0\" >as</td>\n",
       "                        <td id=\"T_b7576d32_6f3e_11eb_99db_302432b071ffrow19_col1\" class=\"data row19 col1\" >841</td>\n",
       "            </tr>\n",
       "    </tbody></table>"
      ],
      "text/plain": [
       "<pandas.io.formats.style.Styler at 0x18e0b002e20>"
      ]
     },
     "execution_count": 7,
     "metadata": {},
     "output_type": "execute_result"
    }
   ],
   "source": [
    "top = Counter([item for sublist in data['x_temp'] for item in sublist])\n",
    "temp = pd.DataFrame(top.most_common(20))\n",
    "temp.columns = ['Common_words','count']\n",
    "temp.style.background_gradient(cmap='Blues')"
   ]
  },
  {
   "cell_type": "code",
   "execution_count": 8,
   "metadata": {},
   "outputs": [],
   "source": [
    "def remove_stopword(x):   \n",
    "    return [y for y in x if y not in stopwords.words('english')]"
   ]
  },
  {
   "cell_type": "code",
   "execution_count": 9,
   "metadata": {
    "scrolled": true
   },
   "outputs": [
    {
     "data": {
      "text/html": [
       "<style  type=\"text/css\" >\n",
       "#T_d231496c_6f3e_11eb_b6f9_302432b071ffrow0_col1{\n",
       "            background-color:  #3f007d;\n",
       "            color:  #f1f1f1;\n",
       "        }#T_d231496c_6f3e_11eb_b6f9_302432b071ffrow1_col1{\n",
       "            background-color:  #8a86bf;\n",
       "            color:  #000000;\n",
       "        }#T_d231496c_6f3e_11eb_b6f9_302432b071ffrow2_col1{\n",
       "            background-color:  #ddddec;\n",
       "            color:  #000000;\n",
       "        }#T_d231496c_6f3e_11eb_b6f9_302432b071ffrow3_col1{\n",
       "            background-color:  #e3e2ef;\n",
       "            color:  #000000;\n",
       "        }#T_d231496c_6f3e_11eb_b6f9_302432b071ffrow4_col1{\n",
       "            background-color:  #eeecf5;\n",
       "            color:  #000000;\n",
       "        }#T_d231496c_6f3e_11eb_b6f9_302432b071ffrow5_col1{\n",
       "            background-color:  #f1f0f6;\n",
       "            color:  #000000;\n",
       "        }#T_d231496c_6f3e_11eb_b6f9_302432b071ffrow6_col1{\n",
       "            background-color:  #f3f1f7;\n",
       "            color:  #000000;\n",
       "        }#T_d231496c_6f3e_11eb_b6f9_302432b071ffrow7_col1,#T_d231496c_6f3e_11eb_b6f9_302432b071ffrow8_col1{\n",
       "            background-color:  #f3f2f8;\n",
       "            color:  #000000;\n",
       "        }#T_d231496c_6f3e_11eb_b6f9_302432b071ffrow9_col1{\n",
       "            background-color:  #f5f3f8;\n",
       "            color:  #000000;\n",
       "        }#T_d231496c_6f3e_11eb_b6f9_302432b071ffrow10_col1{\n",
       "            background-color:  #f5f4f9;\n",
       "            color:  #000000;\n",
       "        }#T_d231496c_6f3e_11eb_b6f9_302432b071ffrow11_col1,#T_d231496c_6f3e_11eb_b6f9_302432b071ffrow12_col1{\n",
       "            background-color:  #f8f7fb;\n",
       "            color:  #000000;\n",
       "        }#T_d231496c_6f3e_11eb_b6f9_302432b071ffrow13_col1{\n",
       "            background-color:  #faf9fc;\n",
       "            color:  #000000;\n",
       "        }#T_d231496c_6f3e_11eb_b6f9_302432b071ffrow14_col1{\n",
       "            background-color:  #fbfafc;\n",
       "            color:  #000000;\n",
       "        }#T_d231496c_6f3e_11eb_b6f9_302432b071ffrow15_col1,#T_d231496c_6f3e_11eb_b6f9_302432b071ffrow16_col1,#T_d231496c_6f3e_11eb_b6f9_302432b071ffrow17_col1,#T_d231496c_6f3e_11eb_b6f9_302432b071ffrow18_col1,#T_d231496c_6f3e_11eb_b6f9_302432b071ffrow19_col1{\n",
       "            background-color:  #fcfbfd;\n",
       "            color:  #000000;\n",
       "        }</style><table id=\"T_d231496c_6f3e_11eb_b6f9_302432b071ff\" ><thead>    <tr>        <th class=\"blank level0\" ></th>        <th class=\"col_heading level0 col0\" >Common_words</th>        <th class=\"col_heading level0 col1\" >count</th>    </tr></thead><tbody>\n",
       "                <tr>\n",
       "                        <th id=\"T_d231496c_6f3e_11eb_b6f9_302432b071fflevel0_row0\" class=\"row_heading level0 row0\" >0</th>\n",
       "                        <td id=\"T_d231496c_6f3e_11eb_b6f9_302432b071ffrow0_col0\" class=\"data row0 col0\" >shirt</td>\n",
       "                        <td id=\"T_d231496c_6f3e_11eb_b6f9_302432b071ffrow0_col1\" class=\"data row0 col1\" >4012</td>\n",
       "            </tr>\n",
       "            <tr>\n",
       "                        <th id=\"T_d231496c_6f3e_11eb_b6f9_302432b071fflevel0_row1\" class=\"row_heading level0 row1\" >1</th>\n",
       "                        <td id=\"T_d231496c_6f3e_11eb_b6f9_302432b071ffrow1_col0\" class=\"data row1 col0\" >fit</td>\n",
       "                        <td id=\"T_d231496c_6f3e_11eb_b6f9_302432b071ffrow1_col1\" class=\"data row1 col1\" >2519</td>\n",
       "            </tr>\n",
       "            <tr>\n",
       "                        <th id=\"T_d231496c_6f3e_11eb_b6f9_302432b071fflevel0_row2\" class=\"row_heading level0 row2\" >2</th>\n",
       "                        <td id=\"T_d231496c_6f3e_11eb_b6f9_302432b071ffrow2_col0\" class=\"data row2 col0\" >great</td>\n",
       "                        <td id=\"T_d231496c_6f3e_11eb_b6f9_302432b071ffrow2_col1\" class=\"data row2 col1\" >1247</td>\n",
       "            </tr>\n",
       "            <tr>\n",
       "                        <th id=\"T_d231496c_6f3e_11eb_b6f9_302432b071fflevel0_row3\" class=\"row_heading level0 row3\" >3</th>\n",
       "                        <td id=\"T_d231496c_6f3e_11eb_b6f9_302432b071ffrow3_col0\" class=\"data row3 col0\" >good</td>\n",
       "                        <td id=\"T_d231496c_6f3e_11eb_b6f9_302432b071ffrow3_col1\" class=\"data row3 col1\" >1128</td>\n",
       "            </tr>\n",
       "            <tr>\n",
       "                        <th id=\"T_d231496c_6f3e_11eb_b6f9_302432b071fflevel0_row4\" class=\"row_heading level0 row4\" >4</th>\n",
       "                        <td id=\"T_d231496c_6f3e_11eb_b6f9_302432b071ffrow4_col0\" class=\"data row4 col0\" >look</td>\n",
       "                        <td id=\"T_d231496c_6f3e_11eb_b6f9_302432b071ffrow4_col1\" class=\"data row4 col1\" >880</td>\n",
       "            </tr>\n",
       "            <tr>\n",
       "                        <th id=\"T_d231496c_6f3e_11eb_b6f9_302432b071fflevel0_row5\" class=\"row_heading level0 row5\" >5</th>\n",
       "                        <td id=\"T_d231496c_6f3e_11eb_b6f9_302432b071ffrow5_col0\" class=\"data row5 col0\" >nice</td>\n",
       "                        <td id=\"T_d231496c_6f3e_11eb_b6f9_302432b071ffrow5_col1\" class=\"data row5 col1\" >787</td>\n",
       "            </tr>\n",
       "            <tr>\n",
       "                        <th id=\"T_d231496c_6f3e_11eb_b6f9_302432b071fflevel0_row6\" class=\"row_heading level0 row6\" >6</th>\n",
       "                        <td id=\"T_d231496c_6f3e_11eb_b6f9_302432b071ffrow6_col0\" class=\"data row6 col0\" >quality</td>\n",
       "                        <td id=\"T_d231496c_6f3e_11eb_b6f9_302432b071ffrow6_col1\" class=\"data row6 col1\" >730</td>\n",
       "            </tr>\n",
       "            <tr>\n",
       "                        <th id=\"T_d231496c_6f3e_11eb_b6f9_302432b071fflevel0_row7\" class=\"row_heading level0 row7\" >7</th>\n",
       "                        <td id=\"T_d231496c_6f3e_11eb_b6f9_302432b071ffrow7_col0\" class=\"data row7 col0\" >size</td>\n",
       "                        <td id=\"T_d231496c_6f3e_11eb_b6f9_302432b071ffrow7_col1\" class=\"data row7 col1\" >714</td>\n",
       "            </tr>\n",
       "            <tr>\n",
       "                        <th id=\"T_d231496c_6f3e_11eb_b6f9_302432b071fflevel0_row8\" class=\"row_heading level0 row8\" >8</th>\n",
       "                        <td id=\"T_d231496c_6f3e_11eb_b6f9_302432b071ffrow8_col0\" class=\"data row8 col0\" >like</td>\n",
       "                        <td id=\"T_d231496c_6f3e_11eb_b6f9_302432b071ffrow8_col1\" class=\"data row8 col1\" >707</td>\n",
       "            </tr>\n",
       "            <tr>\n",
       "                        <th id=\"T_d231496c_6f3e_11eb_b6f9_302432b071fflevel0_row9\" class=\"row_heading level0 row9\" >9</th>\n",
       "                        <td id=\"T_d231496c_6f3e_11eb_b6f9_302432b071ffrow9_col0\" class=\"data row9 col0\" >buy</td>\n",
       "                        <td id=\"T_d231496c_6f3e_11eb_b6f9_302432b071ffrow9_col1\" class=\"data row9 col1\" >672</td>\n",
       "            </tr>\n",
       "            <tr>\n",
       "                        <th id=\"T_d231496c_6f3e_11eb_b6f9_302432b071fflevel0_row10\" class=\"row_heading level0 row10\" >10</th>\n",
       "                        <td id=\"T_d231496c_6f3e_11eb_b6f9_302432b071ffrow10_col0\" class=\"data row10 col0\" >well</td>\n",
       "                        <td id=\"T_d231496c_6f3e_11eb_b6f9_302432b071ffrow10_col1\" class=\"data row10 col1\" >645</td>\n",
       "            </tr>\n",
       "            <tr>\n",
       "                        <th id=\"T_d231496c_6f3e_11eb_b6f9_302432b071fflevel0_row11\" class=\"row_heading level0 row11\" >11</th>\n",
       "                        <td id=\"T_d231496c_6f3e_11eb_b6f9_302432b071ffrow11_col0\" class=\"data row11 col0\" >price</td>\n",
       "                        <td id=\"T_d231496c_6f3e_11eb_b6f9_302432b071ffrow11_col1\" class=\"data row11 col1\" >544</td>\n",
       "            </tr>\n",
       "            <tr>\n",
       "                        <th id=\"T_d231496c_6f3e_11eb_b6f9_302432b071fflevel0_row12\" class=\"row_heading level0 row12\" >12</th>\n",
       "                        <td id=\"T_d231496c_6f3e_11eb_b6f9_302432b071ffrow12_col0\" class=\"data row12 col0\" >wear</td>\n",
       "                        <td id=\"T_d231496c_6f3e_11eb_b6f9_302432b071ffrow12_col1\" class=\"data row12 col1\" >540</td>\n",
       "            </tr>\n",
       "            <tr>\n",
       "                        <th id=\"T_d231496c_6f3e_11eb_b6f9_302432b071fflevel0_row13\" class=\"row_heading level0 row13\" >13</th>\n",
       "                        <td id=\"T_d231496c_6f3e_11eb_b6f9_302432b071ffrow13_col0\" class=\"data row13 col0\" >color</td>\n",
       "                        <td id=\"T_d231496c_6f3e_11eb_b6f9_302432b071ffrow13_col1\" class=\"data row13 col1\" >481</td>\n",
       "            </tr>\n",
       "            <tr>\n",
       "                        <th id=\"T_d231496c_6f3e_11eb_b6f9_302432b071fflevel0_row14\" class=\"row_heading level0 row14\" >14</th>\n",
       "                        <td id=\"T_d231496c_6f3e_11eb_b6f9_302432b071ffrow14_col0\" class=\"data row14 col0\" >perfect</td>\n",
       "                        <td id=\"T_d231496c_6f3e_11eb_b6f9_302432b071ffrow14_col1\" class=\"data row14 col1\" >445</td>\n",
       "            </tr>\n",
       "            <tr>\n",
       "                        <th id=\"T_d231496c_6f3e_11eb_b6f9_302432b071fflevel0_row15\" class=\"row_heading level0 row15\" >15</th>\n",
       "                        <td id=\"T_d231496c_6f3e_11eb_b6f9_302432b071ffrow15_col0\" class=\"data row15 col0\" >love</td>\n",
       "                        <td id=\"T_d231496c_6f3e_11eb_b6f9_302432b071ffrow15_col1\" class=\"data row15 col1\" >434</td>\n",
       "            </tr>\n",
       "            <tr>\n",
       "                        <th id=\"T_d231496c_6f3e_11eb_b6f9_302432b071fflevel0_row16\" class=\"row_heading level0 row16\" >16</th>\n",
       "                        <td id=\"T_d231496c_6f3e_11eb_b6f9_302432b071ffrow16_col0\" class=\"data row16 col0\" >dress</td>\n",
       "                        <td id=\"T_d231496c_6f3e_11eb_b6f9_302432b071ffrow16_col1\" class=\"data row16 col1\" >429</td>\n",
       "            </tr>\n",
       "            <tr>\n",
       "                        <th id=\"T_d231496c_6f3e_11eb_b6f9_302432b071fflevel0_row17\" class=\"row_heading level0 row17\" >17</th>\n",
       "                        <td id=\"T_d231496c_6f3e_11eb_b6f9_302432b071ffrow17_col0\" class=\"data row17 col0\" >order</td>\n",
       "                        <td id=\"T_d231496c_6f3e_11eb_b6f9_302432b071ffrow17_col1\" class=\"data row17 col1\" >425</td>\n",
       "            </tr>\n",
       "            <tr>\n",
       "                        <th id=\"T_d231496c_6f3e_11eb_b6f9_302432b071fflevel0_row18\" class=\"row_heading level0 row18\" >18</th>\n",
       "                        <td id=\"T_d231496c_6f3e_11eb_b6f9_302432b071ffrow18_col0\" class=\"data row18 col0\" >material</td>\n",
       "                        <td id=\"T_d231496c_6f3e_11eb_b6f9_302432b071ffrow18_col1\" class=\"data row18 col1\" >413</td>\n",
       "            </tr>\n",
       "            <tr>\n",
       "                        <th id=\"T_d231496c_6f3e_11eb_b6f9_302432b071fflevel0_row19\" class=\"row_heading level0 row19\" >19</th>\n",
       "                        <td id=\"T_d231496c_6f3e_11eb_b6f9_302432b071ffrow19_col0\" class=\"data row19 col0\" >one</td>\n",
       "                        <td id=\"T_d231496c_6f3e_11eb_b6f9_302432b071ffrow19_col1\" class=\"data row19 col1\" >411</td>\n",
       "            </tr>\n",
       "    </tbody></table>"
      ],
      "text/plain": [
       "<pandas.io.formats.style.Styler at 0x18e7e5e8bb0>"
      ]
     },
     "execution_count": 9,
     "metadata": {},
     "output_type": "execute_result"
    }
   ],
   "source": [
    "data['x_temp'] = data['x_temp'].apply(lambda x:remove_stopword(x))\n",
    "top = Counter([item for sublist in data['x_temp'] for item in sublist])\n",
    "temp = pd.DataFrame(top.most_common(20))\n",
    "temp.columns = ['Common_words','count']\n",
    "temp.style.background_gradient(cmap='Purples')"
   ]
  },
  {
   "cell_type": "markdown",
   "metadata": {},
   "source": [
    "### One-hot Encoding"
   ]
  },
  {
   "cell_type": "code",
   "execution_count": 10,
   "metadata": {},
   "outputs": [],
   "source": [
    "def one_hot(x):\n",
    "    if x == 0 or x == '0': # neutral or unknown\n",
    "        x = [1, 0, 0]\n",
    "    elif x == 1 or x == '1': # positive\n",
    "        x = [0, 1, 0]\n",
    "    elif x == 2 or x == '2': # negative\n",
    "        x = [0, 0, 1]\n",
    "    else:\n",
    "        x = None\n",
    "    return x"
   ]
  },
  {
   "cell_type": "code",
   "execution_count": 11,
   "metadata": {},
   "outputs": [
    {
     "data": {
      "text/html": [
       "<div>\n",
       "<style scoped>\n",
       "    .dataframe tbody tr th:only-of-type {\n",
       "        vertical-align: middle;\n",
       "    }\n",
       "\n",
       "    .dataframe tbody tr th {\n",
       "        vertical-align: top;\n",
       "    }\n",
       "\n",
       "    .dataframe thead th {\n",
       "        text-align: right;\n",
       "    }\n",
       "</style>\n",
       "<table border=\"1\" class=\"dataframe\">\n",
       "  <thead>\n",
       "    <tr style=\"text-align: right;\">\n",
       "      <th></th>\n",
       "      <th>sentence</th>\n",
       "      <th>sentiment</th>\n",
       "      <th>x_temp</th>\n",
       "      <th>y_temp</th>\n",
       "    </tr>\n",
       "  </thead>\n",
       "  <tbody>\n",
       "    <tr>\n",
       "      <th>0</th>\n",
       "      <td>its pretty good inexpensive casual or business...</td>\n",
       "      <td>1</td>\n",
       "      <td>[pretty, good, inexpensive, casual, business, ...</td>\n",
       "      <td>[0, 1, 0]</td>\n",
       "    </tr>\n",
       "    <tr>\n",
       "      <th>1</th>\n",
       "      <td>for example it have no side pleat in back and ...</td>\n",
       "      <td>0</td>\n",
       "      <td>[example, side, pleat, back, doesnt, box, plea...</td>\n",
       "      <td>[1, 0, 0]</td>\n",
       "    </tr>\n",
       "    <tr>\n",
       "      <th>2</th>\n",
       "      <td>if you do youll be disappoint</td>\n",
       "      <td>2</td>\n",
       "      <td>[youll, disappoint]</td>\n",
       "      <td>[0, 0, 1]</td>\n",
       "    </tr>\n",
       "    <tr>\n",
       "      <th>3</th>\n",
       "      <td>this be only noticeable to me and only because...</td>\n",
       "      <td>0</td>\n",
       "      <td>[noticeable, seem, habit, mess]</td>\n",
       "      <td>[1, 0, 0]</td>\n",
       "    </tr>\n",
       "    <tr>\n",
       "      <th>4</th>\n",
       "      <td>also there be lot of loose thread from product...</td>\n",
       "      <td>2</td>\n",
       "      <td>[also, lot, loose, thread, production, arent, ...</td>\n",
       "      <td>[0, 0, 1]</td>\n",
       "    </tr>\n",
       "    <tr>\n",
       "      <th>5</th>\n",
       "      <td>not big deal</td>\n",
       "      <td>0</td>\n",
       "      <td>[big, deal]</td>\n",
       "      <td>[1, 0, 0]</td>\n",
       "    </tr>\n",
       "    <tr>\n",
       "      <th>6</th>\n",
       "      <td>overall solid shirt</td>\n",
       "      <td>1</td>\n",
       "      <td>[overall, solid, shirt]</td>\n",
       "      <td>[0, 1, 0]</td>\n",
       "    </tr>\n",
       "    <tr>\n",
       "      <th>7</th>\n",
       "      <td>pardon the pun</td>\n",
       "      <td>0</td>\n",
       "      <td>[pardon, pun]</td>\n",
       "      <td>[1, 0, 0]</td>\n",
       "    </tr>\n",
       "    <tr>\n",
       "      <th>8</th>\n",
       "      <td>and great standby for any traditional guy closet</td>\n",
       "      <td>1</td>\n",
       "      <td>[great, standby, traditional, guy, closet]</td>\n",
       "      <td>[0, 1, 0]</td>\n",
       "    </tr>\n",
       "    <tr>\n",
       "      <th>9</th>\n",
       "      <td>this be one of van heusens well quality make s...</td>\n",
       "      <td>1</td>\n",
       "      <td>[one, van, heusens, well, quality, make, shirt]</td>\n",
       "      <td>[0, 1, 0]</td>\n",
       "    </tr>\n",
       "  </tbody>\n",
       "</table>\n",
       "</div>"
      ],
      "text/plain": [
       "                                            sentence sentiment  \\\n",
       "0  its pretty good inexpensive casual or business...         1   \n",
       "1  for example it have no side pleat in back and ...         0   \n",
       "2                      if you do youll be disappoint         2   \n",
       "3  this be only noticeable to me and only because...         0   \n",
       "4  also there be lot of loose thread from product...         2   \n",
       "5                                       not big deal         0   \n",
       "6                                overall solid shirt         1   \n",
       "7                                     pardon the pun         0   \n",
       "8   and great standby for any traditional guy closet         1   \n",
       "9  this be one of van heusens well quality make s...         1   \n",
       "\n",
       "                                              x_temp     y_temp  \n",
       "0  [pretty, good, inexpensive, casual, business, ...  [0, 1, 0]  \n",
       "1  [example, side, pleat, back, doesnt, box, plea...  [1, 0, 0]  \n",
       "2                                [youll, disappoint]  [0, 0, 1]  \n",
       "3                    [noticeable, seem, habit, mess]  [1, 0, 0]  \n",
       "4  [also, lot, loose, thread, production, arent, ...  [0, 0, 1]  \n",
       "5                                        [big, deal]  [1, 0, 0]  \n",
       "6                            [overall, solid, shirt]  [0, 1, 0]  \n",
       "7                                      [pardon, pun]  [1, 0, 0]  \n",
       "8         [great, standby, traditional, guy, closet]  [0, 1, 0]  \n",
       "9    [one, van, heusens, well, quality, make, shirt]  [0, 1, 0]  "
      ]
     },
     "execution_count": 11,
     "metadata": {},
     "output_type": "execute_result"
    }
   ],
   "source": [
    "data['y_temp'] = data['sentiment'].apply(lambda x:one_hot(x))\n",
    "\n",
    "# delete row with poorly classified sentiment\n",
    "data = data.dropna(axis=0)\n",
    "\n",
    "data.head(10)"
   ]
  },
  {
   "cell_type": "markdown",
   "metadata": {},
   "source": [
    "### Data Splitting"
   ]
  },
  {
   "cell_type": "code",
   "execution_count": 12,
   "metadata": {},
   "outputs": [],
   "source": [
    "train_data, test_data = train_test_split(data, train_size = 0.80, random_state = 0)\n",
    "\n",
    "x_train = train_data['x_temp']\n",
    "x_test = test_data['x_temp']\n",
    "\n",
    "y_train = []\n",
    "y_test = []\n",
    "\n",
    "for i in range(len(train_data['y_temp'])):\n",
    "    y_train.append(train_data['y_temp'].iloc[i])\n",
    "    \n",
    "for i in range(len(test_data['y_temp'])):\n",
    "    y_test.append(test_data['y_temp'].iloc[i])\n",
    "    \n",
    "y_train = np.array(y_train) \n",
    "y_test = np.array(y_test)"
   ]
  },
  {
   "cell_type": "markdown",
   "metadata": {},
   "source": [
    "### Integer Encoding"
   ]
  },
  {
   "cell_type": "code",
   "execution_count": 13,
   "metadata": {},
   "outputs": [],
   "source": [
    "tokenizer = Tokenizer()\n",
    "tokenizer.fit_on_texts(x_train)"
   ]
  },
  {
   "cell_type": "code",
   "execution_count": 14,
   "metadata": {},
   "outputs": [
    {
     "name": "stdout",
     "output_type": "stream",
     "text": [
      "total word count: 4027\n",
      "count of rare words with a frequency of 2 or less.: 2605\n",
      "proportion of rare words in a word set: 64.68835361311149\n",
      "rare word frequency ratio to total frequency of occurrence: 6.841387201830824\n"
     ]
    }
   ],
   "source": [
    "threshold = 3\n",
    "total_cnt = len(tokenizer.word_index) # total word count\n",
    "rare_cnt = 0 # number of words with frequency of occurrence below the threshold\n",
    "total_freq = 0 # sum of frequencies of all word in training data\n",
    "rare_freq = 0 # sum of frequency of words with frequency less than threshold\n",
    "\n",
    "for key, value in tokenizer.word_counts.items():\n",
    "    total_freq = total_freq + value\n",
    "\n",
    "    if(value < threshold):\n",
    "        rare_cnt = rare_cnt + 1\n",
    "        rare_freq = rare_freq + value\n",
    "\n",
    "print('total word count:',total_cnt)\n",
    "print('count of rare words with a frequency of %s or less.: %s'%(threshold - 1, rare_cnt))\n",
    "print(\"proportion of rare words in a word set:\", (rare_cnt / total_cnt)*100)\n",
    "print(\"rare word frequency ratio to total frequency of occurrence:\", (rare_freq / total_freq)*100)"
   ]
  },
  {
   "cell_type": "code",
   "execution_count": 15,
   "metadata": {},
   "outputs": [
    {
     "name": "stdout",
     "output_type": "stream",
     "text": [
      "size of word set: 1424\n"
     ]
    }
   ],
   "source": [
    "# remove words with a frequency of 3 or less\n",
    "# +2 considering padding token 0 and OOV token 1\n",
    "vocab_size = total_cnt - rare_cnt + 2\n",
    "print('size of word set:',vocab_size)"
   ]
  },
  {
   "cell_type": "code",
   "execution_count": 16,
   "metadata": {},
   "outputs": [
    {
     "name": "stdout",
     "output_type": "stream",
     "text": [
      "[[35, 73, 531], [2, 3], [409, 315, 1151, 16, 371]]\n",
      "[[1, 199, 9, 37, 812, 9, 26, 140, 217, 14], [7, 2], [24]]\n",
      "10168\n"
     ]
    }
   ],
   "source": [
    "tokenizer = Tokenizer(vocab_size, oov_token = 'OOV') \n",
    "tokenizer.fit_on_texts(x_train)\n",
    "x_train = tokenizer.texts_to_sequences(x_train)\n",
    "x_test = tokenizer.texts_to_sequences(x_test)\n",
    "\n",
    "print(x_train[:3])\n",
    "print(x_test[:3])\n",
    "print(len(x_train))"
   ]
  },
  {
   "cell_type": "code",
   "execution_count": 17,
   "metadata": {},
   "outputs": [
    {
     "name": "stdout",
     "output_type": "stream",
     "text": [
      "10083\n",
      "10083\n"
     ]
    },
    {
     "name": "stderr",
     "output_type": "stream",
     "text": [
      "C:\\Users\\Chorom Ham\\anaconda3\\lib\\site-packages\\numpy\\core\\_asarray.py:83: VisibleDeprecationWarning: Creating an ndarray from ragged nested sequences (which is a list-or-tuple of lists-or-tuples-or ndarrays with different lengths or shapes) is deprecated. If you meant to do this, you must specify 'dtype=object' when creating the ndarray\n",
      "  return array(a, dtype, copy=False, order=order)\n"
     ]
    }
   ],
   "source": [
    "drop_train = [index for index, sentence in enumerate(x_train) if len(sentence) < 1]\n",
    "\n",
    "# remove empty samples\n",
    "x_train = np.delete(x_train, drop_train, axis=0)\n",
    "y_train = np.delete(y_train, drop_train, axis=0)\n",
    "\n",
    "print(len(x_train))\n",
    "print(len(y_train))"
   ]
  },
  {
   "cell_type": "markdown",
   "metadata": {},
   "source": [
    "### Padding"
   ]
  },
  {
   "cell_type": "code",
   "execution_count": 18,
   "metadata": {},
   "outputs": [
    {
     "name": "stdout",
     "output_type": "stream",
     "text": [
      "=====Train Data=====\n",
      "max length:  39\n",
      "average length:  4.506991966676584\n",
      "\n",
      "=====Test Data=====\n",
      "max length:  51\n",
      "average length:  4.451435312622887\n"
     ]
    },
    {
     "data": {
      "image/png": "[encoded data removed]",
      "text/plain": [
       "<Figure size 432x288 with 1 Axes>"
      ]
     },
     "metadata": {
      "needs_background": "light"
     },
     "output_type": "display_data"
    }
   ],
   "source": [
    "train_max_len = max(len(l) for l in x_train)\n",
    "train_average_len = sum(map(len, x_train))/ len(x_train)\n",
    "test_max_len = max(len(l) for l in x_test)\n",
    "test_average_len = sum(map(len, x_test))/ len(x_test)\n",
    "\n",
    "print(\"=====Train Data=====\")\n",
    "print(\"max length: \", train_max_len) \n",
    "print(\"average length: \", train_average_len)\n",
    "print(\"\\n=====Test Data=====\")\n",
    "print(\"max length: \", test_max_len) \n",
    "print(\"average length: \", test_average_len)\n",
    "\n",
    "plt.hist([len(s) for s in x_train], bins=50)\n",
    "plt.xlabel('length of samples')\n",
    "plt.ylabel('number of samples')\n",
    "plt.show()"
   ]
  },
  {
   "cell_type": "code",
   "execution_count": 19,
   "metadata": {},
   "outputs": [],
   "source": [
    "def below_threshold_len(max_len, nested_list):\n",
    "    cnt = 0\n",
    "    for s in nested_list:\n",
    "        if(len(s) <= max_len):\n",
    "            cnt = cnt + 1\n",
    "    percentage = (cnt / len(nested_list))*100\n",
    "    print('percentage of examples with length %s or less in the total example: %.3f'\n",
    "          %(max_len,percentage))"
   ]
  },
  {
   "cell_type": "code",
   "execution_count": 20,
   "metadata": {},
   "outputs": [
    {
     "name": "stdout",
     "output_type": "stream",
     "text": [
      "percentage of examples with length 22 or less in the total example: 99.861\n"
     ]
    }
   ],
   "source": [
    "max_len = 22\n",
    "below_threshold_len(max_len, x_train)"
   ]
  },
  {
   "cell_type": "code",
   "execution_count": 21,
   "metadata": {},
   "outputs": [],
   "source": [
    "x_train = pad_sequences(x_train, maxlen=max_len) \n",
    "x_test = pad_sequences(x_test, maxlen=max_len)"
   ]
  },
  {
   "cell_type": "markdown",
   "metadata": {},
   "source": [
    "## Model Development"
   ]
  },
  {
   "cell_type": "code",
   "execution_count": 22,
   "metadata": {},
   "outputs": [],
   "source": [
    "model = Sequential()\n",
    "model.add(Embedding(vocab_size, 100)) \n",
    "model.add(LSTM(128)) \n",
    "model.add(Dense(3, activation='softmax'))"
   ]
  },
  {
   "cell_type": "code",
   "execution_count": 23,
   "metadata": {},
   "outputs": [],
   "source": [
    "es = EarlyStopping(monitor='val_loss', mode='min', verbose=1, patience=4)\n",
    "mc = ModelCheckpoint('best_model.h5', monitor='val_accuracy', mode='max', verbose=1, save_best_only=True)"
   ]
  },
  {
   "cell_type": "code",
   "execution_count": 24,
   "metadata": {
    "scrolled": true
   },
   "outputs": [
    {
     "name": "stdout",
     "output_type": "stream",
     "text": [
      "Epoch 1/50\n",
      "908/908 [==============================] - 18s 16ms/step - loss: 0.9988 - accuracy: 0.5331 - val_loss: 0.8436 - val_accuracy: 0.5986\n",
      "\n",
      "Epoch 00001: val_accuracy improved from -inf to 0.59861, saving model to best_model.h5\n",
      "Epoch 2/50\n",
      "908/908 [==============================] - 14s 16ms/step - loss: 0.8032 - accuracy: 0.6008 - val_loss: 0.7620 - val_accuracy: 0.6591\n",
      "\n",
      "Epoch 00002: val_accuracy improved from 0.59861 to 0.65907, saving model to best_model.h5\n",
      "Epoch 3/50\n",
      "908/908 [==============================] - 14s 16ms/step - loss: 0.7399 - accuracy: 0.6436 - val_loss: 0.7285 - val_accuracy: 0.6938\n",
      "\n",
      "Epoch 00003: val_accuracy improved from 0.65907 to 0.69376, saving model to best_model.h5\n",
      "Epoch 4/50\n",
      "908/908 [==============================] - 14s 15ms/step - loss: 0.6894 - accuracy: 0.6889 - val_loss: 0.6971 - val_accuracy: 0.6997\n",
      "\n",
      "Epoch 00004: val_accuracy improved from 0.69376 to 0.69970, saving model to best_model.h5\n",
      "Epoch 5/50\n",
      "908/908 [==============================] - 15s 16ms/step - loss: 0.6812 - accuracy: 0.7082 - val_loss: 0.6748 - val_accuracy: 0.7205\n",
      "\n",
      "Epoch 00005: val_accuracy improved from 0.69970 to 0.72052, saving model to best_model.h5\n",
      "Epoch 6/50\n",
      "908/908 [==============================] - 17s 18ms/step - loss: 0.6471 - accuracy: 0.7200 - val_loss: 0.6627 - val_accuracy: 0.7215\n",
      "\n",
      "Epoch 00006: val_accuracy improved from 0.72052 to 0.72151, saving model to best_model.h5\n",
      "Epoch 7/50\n",
      "908/908 [==============================] - 18s 20ms/step - loss: 0.6247 - accuracy: 0.7350 - val_loss: 0.6823 - val_accuracy: 0.7225\n",
      "\n",
      "Epoch 00007: val_accuracy improved from 0.72151 to 0.72250, saving model to best_model.h5\n",
      "Epoch 8/50\n",
      "908/908 [==============================] - 15s 16ms/step - loss: 0.6070 - accuracy: 0.7453 - val_loss: 0.6508 - val_accuracy: 0.7284\n",
      "\n",
      "Epoch 00008: val_accuracy improved from 0.72250 to 0.72844, saving model to best_model.h5\n",
      "Epoch 9/50\n",
      "908/908 [==============================] - 13s 14ms/step - loss: 0.6041 - accuracy: 0.7474 - val_loss: 0.6519 - val_accuracy: 0.7294\n",
      "\n",
      "Epoch 00009: val_accuracy improved from 0.72844 to 0.72944, saving model to best_model.h5\n",
      "Epoch 10/50\n",
      "908/908 [==============================] - 14s 15ms/step - loss: 0.5895 - accuracy: 0.7618 - val_loss: 0.6436 - val_accuracy: 0.7354\n",
      "\n",
      "Epoch 00010: val_accuracy improved from 0.72944 to 0.73538, saving model to best_model.h5\n",
      "Epoch 11/50\n",
      "908/908 [==============================] - 14s 15ms/step - loss: 0.5894 - accuracy: 0.7605 - val_loss: 0.6409 - val_accuracy: 0.7304\n",
      "\n",
      "Epoch 00011: val_accuracy did not improve from 0.73538\n",
      "Epoch 12/50\n",
      "908/908 [==============================] - 20s 22ms/step - loss: 0.5818 - accuracy: 0.7584 - val_loss: 0.6519 - val_accuracy: 0.7215\n",
      "\n",
      "Epoch 00012: val_accuracy did not improve from 0.73538\n",
      "Epoch 13/50\n",
      "908/908 [==============================] - 20s 22ms/step - loss: 0.5591 - accuracy: 0.7724 - val_loss: 0.6381 - val_accuracy: 0.7423 - loss: 0.5590 - accuracy: \n",
      "\n",
      "Epoch 00013: val_accuracy improved from 0.73538 to 0.74232, saving model to best_model.h5\n",
      "Epoch 14/50\n",
      "908/908 [==============================] - 18s 20ms/step - loss: 0.5783 - accuracy: 0.7602 - val_loss: 0.6612 - val_accuracy: 0.7225\n",
      "\n",
      "Epoch 00014: val_accuracy did not improve from 0.74232\n",
      "Epoch 15/50\n",
      "908/908 [==============================] - 15s 16ms/step - loss: 0.5610 - accuracy: 0.7712 - val_loss: 0.6328 - val_accuracy: 0.7413\n",
      "\n",
      "Epoch 00015: val_accuracy did not improve from 0.74232\n",
      "Epoch 16/50\n",
      "908/908 [==============================] - 13s 15ms/step - loss: 0.5522 - accuracy: 0.7784 - val_loss: 0.6365 - val_accuracy: 0.7324\n",
      "\n",
      "Epoch 00016: val_accuracy did not improve from 0.74232\n",
      "Epoch 17/50\n",
      "908/908 [==============================] - 14s 15ms/step - loss: 0.5448 - accuracy: 0.7818 - val_loss: 0.6551 - val_accuracy: 0.7175\n",
      "\n",
      "Epoch 00017: val_accuracy did not improve from 0.74232\n",
      "Epoch 18/50\n",
      "908/908 [==============================] - 16s 18ms/step - loss: 0.5580 - accuracy: 0.7721 - val_loss: 0.6340 - val_accuracy: 0.7324\n",
      "\n",
      "Epoch 00018: val_accuracy did not improve from 0.74232\n",
      "Epoch 19/50\n",
      "908/908 [==============================] - 22s 25ms/step - loss: 0.5502 - accuracy: 0.7834 - val_loss: 0.6618 - val_accuracy: 0.7205\n",
      "\n",
      "Epoch 00019: val_accuracy did not improve from 0.74232\n",
      "Epoch 00019: early stopping\n"
     ]
    }
   ],
   "source": [
    "opt = optimizers.RMSprop(lr=0.0001)\n",
    "\n",
    "model.compile(optimizer=opt, loss='categorical_crossentropy', metrics=['accuracy']) \n",
    "history = model.fit(x_train, y_train, batch_size=10, epochs=50, callbacks=[es, mc], validation_split=0.1)"
   ]
  },
  {
   "cell_type": "code",
   "execution_count": 25,
   "metadata": {},
   "outputs": [
    {
     "data": {
      "image/png": "[encoded data removed]",
      "text/plain": [
       "<Figure size 432x288 with 1 Axes>"
      ]
     },
     "metadata": {
      "needs_background": "light"
     },
     "output_type": "display_data"
    }
   ],
   "source": [
    "plt.plot(history.history['accuracy'])\n",
    "plt.plot(history.history['val_accuracy'])\n",
    "plt.title('model accuracy')\n",
    "plt.ylabel('accuracy')\n",
    "plt.xlabel('epoch')\n",
    "plt.legend(['train', 'val'], loc='upper left')\n",
    "plt.show()"
   ]
  },
  {
   "cell_type": "code",
   "execution_count": 26,
   "metadata": {},
   "outputs": [
    {
     "data": {
      "image/png": "[encoded data removed]",
      "text/plain": [
       "<Figure size 432x288 with 1 Axes>"
      ]
     },
     "metadata": {
      "needs_background": "light"
     },
     "output_type": "display_data"
    }
   ],
   "source": [
    "plt.plot(history.history['loss'])\n",
    "plt.plot(history.history['val_loss'])\n",
    "plt.title('model loss')\n",
    "plt.ylabel('loss')\n",
    "plt.xlabel('epoch')\n",
    "plt.legend(['train', 'val'], loc='upper left')\n",
    "plt.show()"
   ]
  },
  {
   "cell_type": "code",
   "execution_count": 27,
   "metadata": {},
   "outputs": [
    {
     "name": "stdout",
     "output_type": "stream",
     "text": [
      "80/80 [==============================] - 2s 12ms/step - loss: 0.6158 - accuracy: 0.7464\n",
      "Test Accuracy: 74.6363%\n"
     ]
    }
   ],
   "source": [
    "loaded_model = load_model('best_model.h5')\n",
    "print(\"Test Accuracy: {:.4f}%\".format(loaded_model.evaluate(x_test, y_test)[1]*100))"
   ]
  }
 ],
 "metadata": {
  "kernelspec": {
   "display_name": "Python 3",
   "language": "python",
   "name": "python3"
  },
  "language_info": {
   "codemirror_mode": {
    "name": "ipython",
    "version": 3
   },
   "file_extension": ".py",
   "mimetype": "text/x-python",
   "name": "python",
   "nbconvert_exporter": "python",
   "pygments_lexer": "ipython3",
   "version": "3.8.5"
  }
 },
 "nbformat": 4,
 "nbformat_minor": 4
}
